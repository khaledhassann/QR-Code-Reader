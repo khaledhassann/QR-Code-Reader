{
 "cells": [
  {
   "cell_type": "markdown",
   "metadata": {},
   "source": [
    "## Importing all necessary libraries"
   ]
  },
  {
   "cell_type": "code",
   "execution_count": 3,
   "metadata": {},
   "outputs": [],
   "source": [
    "import cv2\n",
    "import numpy as np\n",
    "import matplotlib.pyplot as plt\n"
   ]
  },
  {
   "cell_type": "code",
   "execution_count": 9,
   "metadata": {},
   "outputs": [
    {
     "name": "stdout",
     "output_type": "stream",
     "text": [
      "Detected Noise Type: Salt and Pepper Noise\n"
     ]
    }
   ],
   "source": [
    "def detect_noise_type(image_gray, threshold=0.05):\n",
    "    # Calculate the standard deviation of pixel intensities\n",
    "    std_dev = np.std(image_gray)\n",
    "    \n",
    "    # Check for Gaussian noise based on standard deviation\n",
    "    if std_dev < threshold * 255:\n",
    "        return \"Gaussian Noise\"\n",
    "    \n",
    "    # Calculate the histogram of pixel intensities\n",
    "    histogram = cv2.calcHist([image_gray], [0], None, [256], [0, 256])\n",
    "    \n",
    "    # Check for salt and pepper noise based on histogram spikes\n",
    "    peak_ratio = np.sum(histogram[:10]) + np.sum(histogram[-10:])\n",
    "    total_pixels = image_gray.shape[0] * image_gray.shape[1]\n",
    "    if peak_ratio / total_pixels > 0.01:\n",
    "        return \"Salt and Pepper Noise\"\n",
    "    \n",
    "    # Check for speckle noise based on local variance\n",
    "    variance = cv2.Laplacian(image_gray, cv2.CV_64F).var()\n",
    "    if variance < threshold:\n",
    "        return \"Speckle Noise\"\n",
    "    \n",
    "    return \"No Recognizable Noise\"\n",
    "\n",
    "\n",
    "# Example usage:\n",
    "image_path = 'images/01-Getting-started.png'\n",
    "image = cv2.imread(image_path)\n",
    "gray_image = cv2.cvtColor(image, cv2.COLOR_BGR2GRAY)\n",
    "\n",
    "noise_type = detect_noise_type(gray_image)\n",
    "print(\"Detected Noise Type:\", noise_type)\n"
   ]
  },
  {
   "cell_type": "markdown",
   "metadata": {},
   "source": [
    "## edit from adham"
   ]
  },
  {
   "cell_type": "code",
   "execution_count": null,
   "metadata": {},
   "outputs": [],
   "source": []
  }
 ],
 "metadata": {
  "kernelspec": {
   "display_name": "base",
   "language": "python",
   "name": "python3"
  },
  "language_info": {
   "codemirror_mode": {
    "name": "ipython",
    "version": 3
   },
   "file_extension": ".py",
   "mimetype": "text/x-python",
   "name": "python",
   "nbconvert_exporter": "python",
   "pygments_lexer": "ipython3",
   "version": "3.10.14"
  }
 },
 "nbformat": 4,
 "nbformat_minor": 2
}
